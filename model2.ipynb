{
 "cells": [
  {
   "cell_type": "code",
   "execution_count": 1,
   "id": "1f6833de",
   "metadata": {},
   "outputs": [],
   "source": [
    "#import the libraries\n",
    "from keras.preprocessing.image import ImageDataGenerator\n",
    "\n",
    "from keras.models import Sequential\n",
    "from keras.layers import Conv2D, Activation, MaxPooling2D, Flatten, Dense, Dropout,BatchNormalization\n",
    "import tensorflow as tf\n",
    "from tensorflow.keras import backend as K"
   ]
  },
  {
   "cell_type": "code",
   "execution_count": 2,
   "id": "9aa162ec",
   "metadata": {},
   "outputs": [],
   "source": [
    "#Set the image size with are learning from\n",
    "IMG_WIDTH, IMG_HEIGHT = 150,150\n",
    "\n",
    "#Set the constants\n",
    "TRAIN_DATA_DIR = 'Resources/chest_xray/train'\n",
    "VALIDATION_DATA_DIR = 'Resources/chest_xray/test'\n",
    "NB_TRAIN_SAMPLES = 200  #Must match number of files\n",
    "NB_VALIDATION_SAMPLES = 200"
   ]
  },
  {
   "cell_type": "code",
   "execution_count": 3,
   "id": "169d5ffc",
   "metadata": {},
   "outputs": [],
   "source": [
    "EPOCHS = 50 #Higher for more time training model... diminishing returns\n",
    "BATCH_SIZE = 5"
   ]
  },
  {
   "cell_type": "code",
   "execution_count": 4,
   "id": "bb3a83e5",
   "metadata": {},
   "outputs": [],
   "source": [
    "if K.image_data_format() == 'channels_first':\n",
    "        input_shape = (3, IMG_WIDTH, IMG_HEIGHT)\n",
    "else:\n",
    "        input_shape = (IMG_WIDTH, IMG_HEIGHT, 3)\n",
    "\n",
    "    \n"
   ]
  },
  {
   "cell_type": "code",
   "execution_count": 5,
   "id": "941af72c",
   "metadata": {},
   "outputs": [
    {
     "name": "stdout",
     "output_type": "stream",
     "text": [
      "Found 4010 images belonging to 2 classes.\n",
      "Found 624 images belonging to 2 classes.\n"
     ]
    }
   ],
   "source": [
    "train_datagen = ImageDataGenerator(\n",
    "            rotation_range = 40,\n",
    "            width_shift_range = 0.2,\n",
    "            height_shift_range = 0.2,\n",
    "            rescale = 1.0/255,\n",
    "            shear_range=0.2,\n",
    "            zoom_range=0.2,\n",
    "            horizontal_flip=True,\n",
    "            fill_mode='nearest')\n",
    "    \n",
    "    # this is the augmentation configuration we will use for testing:\n",
    "    # only rescaling\n",
    "test_datagen = ImageDataGenerator(rescale= 1. / 255)\n",
    "\n",
    "train_generator = train_datagen.flow_from_directory(\n",
    "            TRAIN_DATA_DIR,\n",
    "            target_size=(IMG_WIDTH, IMG_HEIGHT),\n",
    "            batch_size=BATCH_SIZE,\n",
    "            class_mode='binary')\n",
    "\n",
    "validation_generator = test_datagen.flow_from_directory(\n",
    "            VALIDATION_DATA_DIR,\n",
    "            target_size=(IMG_WIDTH, IMG_HEIGHT),\n",
    "            batch_size=BATCH_SIZE,\n",
    "            class_mode='binary')"
   ]
  },
  {
   "cell_type": "code",
   "execution_count": 6,
   "id": "f2785872",
   "metadata": {},
   "outputs": [],
   "source": [
    "model = Sequential()\n",
    "model.add(Conv2D(32, (3, 3), input_shape=input_shape))\n",
    "model.add(Activation('relu'))\n",
    "model.add( BatchNormalization())\n",
    "model.add(MaxPooling2D(pool_size=(2, 2)))\n",
    "    \n",
    "model.add(Conv2D(64, (3, 3)))\n",
    "model.add(Activation('relu'))\n",
    "model.add(Dropout(0.1))\n",
    "model.add( BatchNormalization())\n",
    "model.add(MaxPooling2D(pool_size=(2, 2)))\n",
    "    \n",
    "model.add(Conv2D(64, (3, 3)))\n",
    "model.add(Activation('relu'))\n",
    "model.add( BatchNormalization())\n",
    "model.add(MaxPooling2D(pool_size=(2, 2)))\n",
    "    \n",
    "model.add(Conv2D(128, (3, 3)))\n",
    "model.add(Activation('relu'))\n",
    "model.add(Dropout(0.2))\n",
    "model.add( BatchNormalization())\n",
    "model.add(MaxPooling2D(pool_size=(2, 2)))\n",
    "    \n",
    "model.add(Conv2D(256, (3, 3)))\n",
    "model.add(Activation('relu'))\n",
    "model.add(Dropout(0.2))\n",
    "model.add( BatchNormalization())\n",
    "model.add(MaxPooling2D(pool_size=(2, 2)))\n",
    "    \n",
    "model.add(Flatten())\n",
    "model.add(Dense(64))\n",
    "model.add(Activation('relu'))\n",
    "model.add(Dropout(0.2))\n",
    "model.add(Dense(1))\n",
    "model.add(Activation('sigmoid'))\n",
    "    \n",
    "   \n",
    "model.compile(optimizer = \"rmsprop\", loss = \"binary_crossentropy\", metrics = [\"accuracy\"])"
   ]
  },
  {
   "cell_type": "code",
   "execution_count": 7,
   "id": "e9bbcabe",
   "metadata": {},
   "outputs": [
    {
     "name": "stdout",
     "output_type": "stream",
     "text": [
      "WARNING:tensorflow:From C:\\Users\\ayesh\\AppData\\Local\\Temp/ipykernel_26068/1016100886.py:6: Model.fit_generator (from tensorflow.python.keras.engine.training) is deprecated and will be removed in a future version.\n",
      "Instructions for updating:\n",
      "Please use Model.fit, which supports generators.\n",
      "Epoch 1/50\n",
      "40/40 [==============================] - 11s 284ms/step - loss: 0.8836 - accuracy: 0.7400 - val_loss: 1.7665 - val_accuracy: 0.6400\n",
      "Epoch 2/50\n",
      "40/40 [==============================] - 10s 253ms/step - loss: 0.5553 - accuracy: 0.8350 - val_loss: 4.3615 - val_accuracy: 0.5850\n",
      "Epoch 3/50\n",
      "40/40 [==============================] - 9s 226ms/step - loss: 0.4848 - accuracy: 0.8200 - val_loss: 7.0850 - val_accuracy: 0.6650\n",
      "Epoch 4/50\n",
      "40/40 [==============================] - 10s 249ms/step - loss: 0.5281 - accuracy: 0.7700 - val_loss: 5.2010 - val_accuracy: 0.6450\n",
      "Epoch 5/50\n",
      "40/40 [==============================] - 10s 258ms/step - loss: 0.4572 - accuracy: 0.8250 - val_loss: 7.6912 - val_accuracy: 0.6300\n",
      "Epoch 6/50\n",
      "40/40 [==============================] - 9s 222ms/step - loss: 0.5569 - accuracy: 0.8100 - val_loss: 7.3676 - val_accuracy: 0.6150\n",
      "Epoch 7/50\n",
      "40/40 [==============================] - 11s 266ms/step - loss: 0.4329 - accuracy: 0.7950 - val_loss: 7.5379 - val_accuracy: 0.6100\n",
      "Epoch 8/50\n",
      "40/40 [==============================] - 13s 334ms/step - loss: 0.4258 - accuracy: 0.8400 - val_loss: 7.5188 - val_accuracy: 0.6500\n",
      "Epoch 9/50\n",
      "40/40 [==============================] - 11s 274ms/step - loss: 0.3476 - accuracy: 0.8800 - val_loss: 10.8222 - val_accuracy: 0.6700\n",
      "Epoch 10/50\n",
      "40/40 [==============================] - 11s 265ms/step - loss: 0.3996 - accuracy: 0.7950 - val_loss: 17.5004 - val_accuracy: 0.5950\n",
      "Epoch 11/50\n",
      "40/40 [==============================] - 10s 254ms/step - loss: 0.4419 - accuracy: 0.8400 - val_loss: 1.5750 - val_accuracy: 0.6350\n",
      "Epoch 12/50\n",
      "40/40 [==============================] - 10s 250ms/step - loss: 0.5089 - accuracy: 0.8150 - val_loss: 2.8058 - val_accuracy: 0.6200\n",
      "Epoch 13/50\n",
      "40/40 [==============================] - 10s 239ms/step - loss: 0.4254 - accuracy: 0.7750 - val_loss: 0.7371 - val_accuracy: 0.5250\n",
      "Epoch 14/50\n",
      "40/40 [==============================] - 10s 244ms/step - loss: 0.3641 - accuracy: 0.8650 - val_loss: 0.6505 - val_accuracy: 0.6450\n",
      "Epoch 15/50\n",
      "40/40 [==============================] - 10s 241ms/step - loss: 0.4101 - accuracy: 0.8350 - val_loss: 2.6292 - val_accuracy: 0.6300\n",
      "Epoch 16/50\n",
      "40/40 [==============================] - 10s 241ms/step - loss: 0.5283 - accuracy: 0.8100 - val_loss: 19.3142 - val_accuracy: 0.5950\n",
      "Epoch 17/50\n",
      "40/40 [==============================] - 9s 236ms/step - loss: 0.3636 - accuracy: 0.8600 - val_loss: 0.6801 - val_accuracy: 0.6200\n",
      "Epoch 18/50\n",
      "40/40 [==============================] - 10s 243ms/step - loss: 0.3974 - accuracy: 0.8550 - val_loss: 1.8625 - val_accuracy: 0.6750\n",
      "Epoch 19/50\n",
      "40/40 [==============================] - 11s 270ms/step - loss: 0.3327 - accuracy: 0.8500 - val_loss: 0.6663 - val_accuracy: 0.6050\n",
      "Epoch 20/50\n",
      "40/40 [==============================] - 9s 237ms/step - loss: 0.4474 - accuracy: 0.8200 - val_loss: 0.8911 - val_accuracy: 0.6500\n",
      "Epoch 21/50\n",
      "40/40 [==============================] - 9s 230ms/step - loss: 0.3755 - accuracy: 0.8150 - val_loss: 0.8237 - val_accuracy: 0.3600\n",
      "Epoch 22/50\n",
      "40/40 [==============================] - 9s 234ms/step - loss: 0.3709 - accuracy: 0.8300 - val_loss: 0.7997 - val_accuracy: 0.4000\n",
      "Epoch 23/50\n",
      "40/40 [==============================] - 9s 234ms/step - loss: 0.4976 - accuracy: 0.8600 - val_loss: 27.7677 - val_accuracy: 0.6350\n",
      "Epoch 24/50\n",
      "40/40 [==============================] - 9s 235ms/step - loss: 0.3362 - accuracy: 0.8450 - val_loss: 0.4327 - val_accuracy: 0.8000\n",
      "Epoch 25/50\n",
      "40/40 [==============================] - 10s 259ms/step - loss: 0.2166 - accuracy: 0.9250 - val_loss: 0.6693 - val_accuracy: 0.5400\n",
      "Epoch 26/50\n",
      "40/40 [==============================] - 10s 258ms/step - loss: 0.3570 - accuracy: 0.8500 - val_loss: 23.3930 - val_accuracy: 0.6700\n",
      "Epoch 27/50\n",
      "40/40 [==============================] - 11s 268ms/step - loss: 0.3757 - accuracy: 0.8400 - val_loss: 0.6611 - val_accuracy: 0.5850\n",
      "Epoch 28/50\n",
      "40/40 [==============================] - 12s 312ms/step - loss: 0.2979 - accuracy: 0.8300 - val_loss: 11.3918 - val_accuracy: 0.6050\n",
      "Epoch 29/50\n",
      "40/40 [==============================] - 11s 263ms/step - loss: 0.3642 - accuracy: 0.8650 - val_loss: 0.5366 - val_accuracy: 0.7950\n",
      "Epoch 30/50\n",
      "40/40 [==============================] - 10s 253ms/step - loss: 0.4717 - accuracy: 0.8400 - val_loss: 0.7831 - val_accuracy: 0.4750\n",
      "Epoch 31/50\n",
      "40/40 [==============================] - 11s 264ms/step - loss: 0.3685 - accuracy: 0.8700 - val_loss: 0.4787 - val_accuracy: 0.8000\n",
      "Epoch 32/50\n",
      "40/40 [==============================] - 11s 264ms/step - loss: 0.4340 - accuracy: 0.8450 - val_loss: 0.7174 - val_accuracy: 0.5000\n",
      "Epoch 33/50\n",
      "40/40 [==============================] - 10s 258ms/step - loss: 0.5126 - accuracy: 0.8150 - val_loss: 8.5662 - val_accuracy: 0.6450\n",
      "Epoch 34/50\n",
      "40/40 [==============================] - 9s 233ms/step - loss: 0.3720 - accuracy: 0.8500 - val_loss: 0.7482 - val_accuracy: 0.4700\n",
      "Epoch 35/50\n",
      "40/40 [==============================] - 9s 233ms/step - loss: 0.2841 - accuracy: 0.8700 - val_loss: 19.8235 - val_accuracy: 0.6100\n",
      "Epoch 36/50\n",
      "40/40 [==============================] - 10s 250ms/step - loss: 0.2274 - accuracy: 0.8750 - val_loss: 12.1762 - val_accuracy: 0.6350\n",
      "Epoch 37/50\n",
      "40/40 [==============================] - 11s 269ms/step - loss: 0.4099 - accuracy: 0.8500 - val_loss: 0.7536 - val_accuracy: 0.5100\n",
      "Epoch 38/50\n",
      "40/40 [==============================] - 11s 270ms/step - loss: 0.4030 - accuracy: 0.8050 - val_loss: 0.9117 - val_accuracy: 0.3450\n",
      "Epoch 39/50\n",
      "40/40 [==============================] - 11s 263ms/step - loss: 0.3907 - accuracy: 0.8700 - val_loss: 0.5057 - val_accuracy: 0.7450\n",
      "Epoch 40/50\n",
      "40/40 [==============================] - 10s 254ms/step - loss: 0.3239 - accuracy: 0.8650 - val_loss: 1.9908 - val_accuracy: 0.6300\n",
      "Epoch 41/50\n",
      "40/40 [==============================] - 11s 268ms/step - loss: 0.4132 - accuracy: 0.8600 - val_loss: 0.5338 - val_accuracy: 0.7950\n",
      "Epoch 42/50\n",
      "40/40 [==============================] - 10s 251ms/step - loss: 0.3959 - accuracy: 0.8600 - val_loss: 1.2557 - val_accuracy: 0.3900\n",
      "Epoch 43/50\n",
      "40/40 [==============================] - 10s 244ms/step - loss: 0.3338 - accuracy: 0.8350 - val_loss: 0.7511 - val_accuracy: 0.3600\n",
      "Epoch 44/50\n",
      "40/40 [==============================] - 10s 247ms/step - loss: 0.5354 - accuracy: 0.8250 - val_loss: 0.7191 - val_accuracy: 0.5950\n",
      "Epoch 45/50\n",
      "40/40 [==============================] - 10s 252ms/step - loss: 0.2775 - accuracy: 0.8700 - val_loss: 12.2029 - val_accuracy: 0.6100\n",
      "Epoch 46/50\n",
      "40/40 [==============================] - 10s 259ms/step - loss: 0.3217 - accuracy: 0.8450 - val_loss: 5.1405 - val_accuracy: 0.6400\n",
      "Epoch 47/50\n",
      "40/40 [==============================] - 11s 271ms/step - loss: 0.3066 - accuracy: 0.8550 - val_loss: 0.9502 - val_accuracy: 0.6350\n",
      "Epoch 48/50\n",
      "40/40 [==============================] - 12s 292ms/step - loss: 0.3642 - accuracy: 0.8400 - val_loss: 18.7869 - val_accuracy: 0.6250\n",
      "Epoch 49/50\n",
      "40/40 [==============================] - 11s 283ms/step - loss: 0.4797 - accuracy: 0.8050 - val_loss: 7.6894 - val_accuracy: 0.6450\n",
      "Epoch 50/50\n",
      "40/40 [==============================] - 11s 278ms/step - loss: 0.3343 - accuracy: 0.8250 - val_loss: 24.8405 - val_accuracy: 0.6100\n"
     ]
    },
    {
     "data": {
      "text/plain": [
       "<tensorflow.python.keras.callbacks.History at 0x13d732682c8>"
      ]
     },
     "execution_count": 7,
     "metadata": {},
     "output_type": "execute_result"
    }
   ],
   "source": [
    "model.fit_generator(\n",
    "            train_generator,\n",
    "            steps_per_epoch=NB_VALIDATION_SAMPLES // BATCH_SIZE,\n",
    "            epochs=EPOCHS,\n",
    "            validation_data=validation_generator,\n",
    "            validation_steps=NB_VALIDATION_SAMPLES // BATCH_SIZE)"
   ]
  },
  {
   "cell_type": "code",
   "execution_count": 8,
   "id": "eb432490",
   "metadata": {},
   "outputs": [
    {
     "name": "stdout",
     "output_type": "stream",
     "text": [
      "['.git', '.ipynb_checkpoints', 'model2.ipynb', 'Resources', 'saved_model.h5', 'static', 'templates', 'trainmodel.py', 'website.py']\n"
     ]
    }
   ],
   "source": [
    "import os\n",
    "print(os.listdir())\n",
    "def img_to_array(path, category_no, X, y):\n",
    "    for p in os.listdir(path):\n",
    "        if p == \".DS_Store\":\n",
    "            continue\n",
    "        #print(p)\n",
    "        img = cv2.imread(os.path.join(path, p), cv2.IMREAD_GRAYSCALE)\n",
    "        img_np = cv2.resize(img, dsize = (150, 150))\n",
    "        X.append(img_np)\n",
    "        y.append(category_no)"
   ]
  },
  {
   "cell_type": "code",
   "execution_count": 26,
   "id": "0935b3f1",
   "metadata": {},
   "outputs": [
    {
     "ename": "ValueError",
     "evalue": "cannot reshape array of size 14040000 into shape (150,150)",
     "output_type": "error",
     "traceback": [
      "\u001b[1;31m---------------------------------------------------------------------------\u001b[0m",
      "\u001b[1;31mValueError\u001b[0m                                Traceback (most recent call last)",
      "\u001b[1;32m~\\AppData\\Local\\Temp/ipykernel_26068/1183184418.py\u001b[0m in \u001b[0;36m<module>\u001b[1;34m\u001b[0m\n\u001b[0;32m     11\u001b[0m     \u001b[0mimg_to_array\u001b[0m\u001b[1;33m(\u001b[0m\u001b[0mpath_test\u001b[0m \u001b[1;33m+\u001b[0m \u001b[0mcategory_list\u001b[0m\u001b[1;33m[\u001b[0m\u001b[0mi\u001b[0m\u001b[1;33m]\u001b[0m\u001b[1;33m,\u001b[0m \u001b[0mi\u001b[0m\u001b[1;33m,\u001b[0m \u001b[0mX_test\u001b[0m\u001b[1;33m,\u001b[0m \u001b[0my_test\u001b[0m\u001b[1;33m)\u001b[0m\u001b[1;33m\u001b[0m\u001b[1;33m\u001b[0m\u001b[0m\n\u001b[0;32m     12\u001b[0m \u001b[1;33m\u001b[0m\u001b[0m\n\u001b[1;32m---> 13\u001b[1;33m \u001b[0mX_test\u001b[0m \u001b[1;33m=\u001b[0m \u001b[0mnp\u001b[0m\u001b[1;33m.\u001b[0m\u001b[0marray\u001b[0m\u001b[1;33m(\u001b[0m\u001b[0mX_test\u001b[0m\u001b[1;33m)\u001b[0m\u001b[1;33m.\u001b[0m\u001b[0mreshape\u001b[0m\u001b[1;33m(\u001b[0m\u001b[1;36m150\u001b[0m\u001b[1;33m,\u001b[0m\u001b[1;36m150\u001b[0m\u001b[1;33m)\u001b[0m\u001b[1;33m\u001b[0m\u001b[1;33m\u001b[0m\u001b[0m\n\u001b[0m\u001b[0;32m     14\u001b[0m \u001b[0my_test\u001b[0m \u001b[1;33m=\u001b[0m \u001b[0mnp\u001b[0m\u001b[1;33m.\u001b[0m\u001b[0marray\u001b[0m\u001b[1;33m(\u001b[0m\u001b[0my_test\u001b[0m\u001b[1;33m)\u001b[0m\u001b[1;33m\u001b[0m\u001b[1;33m\u001b[0m\u001b[0m\n\u001b[0;32m     15\u001b[0m \u001b[1;33m\u001b[0m\u001b[0m\n",
      "\u001b[1;31mValueError\u001b[0m: cannot reshape array of size 14040000 into shape (150,150)"
     ]
    }
   ],
   "source": [
    "\n",
    "import numpy as np\n",
    "import cv2\n",
    "path_test = 'Resources/chest_xray/test/'\n",
    "\n",
    "category_list = [\"NORMAL\", \"PNEUMONIA\"]\n",
    "\n",
    "X_test = []\n",
    "y_test = []\n",
    "\n",
    "for i in range(len(category_list)):\n",
    "    img_to_array(path_test + category_list[i], i, X_test, y_test)\n",
    "    \n",
    "X_test = np.array(X_test).reshape(150,150)\n",
    "y_test = np.array(y_test)\n",
    "\n",
    "X_test = X_test / 255"
   ]
  },
  {
   "cell_type": "code",
   "execution_count": null,
   "id": "15a62c7f",
   "metadata": {},
   "outputs": [],
   "source": [
    "accuracy = model.evaluate(X_test, y_test)\n",
    "print(\"Accuracy: %.2f\" % (accuracy*100))\n"
   ]
  },
  {
   "cell_type": "code",
   "execution_count": null,
   "id": "ab0e9270",
   "metadata": {},
   "outputs": [],
   "source": [
    "import matplotlib.pyplot as plt\n",
    "import seaborn as sns\n",
    "\n",
    "plt.plot(history.history[\"accuracy\"])\n",
    "plt.plot(history.history[\"val_accuracy\"])\n",
    "plt.title(\"Model accuracy\")\n",
    "plt.ylabel(\"Accuracy\")\n",
    "plt.xlabel(\"Epoch\")\n",
    "plt.legend([\"Train\", \"Test\"], loc = \"upper left\")\n",
    "plt.show()\n",
    "\n",
    "plt.plot(history.history[\"loss\"])\n",
    "plt.plot(history.history[\"val_loss\"])\n",
    "plt.title(\"Model loss\")\n",
    "plt.ylabel(\"Loss\")\n",
    "plt.xlabel(\"Epoch\")\n",
    "plt.legend([\"Train\", \"Test\"], loc = \"upper left\")\n",
    "plt.show()"
   ]
  },
  {
   "cell_type": "code",
   "execution_count": null,
   "id": "240629a2",
   "metadata": {},
   "outputs": [],
   "source": [
    "sns.heatmap(confusion_matrix(model.predict_classes(X_test), y_test), cmap = \"viridis\", annot = True)"
   ]
  },
  {
   "cell_type": "code",
   "execution_count": null,
   "id": "f60f5293",
   "metadata": {},
   "outputs": [],
   "source": []
  },
  {
   "cell_type": "code",
   "execution_count": null,
   "id": "a14116c0",
   "metadata": {},
   "outputs": [],
   "source": []
  }
 ],
 "metadata": {
  "kernelspec": {
   "display_name": "Python 3 (ipykernel)",
   "language": "python",
   "name": "python3"
  },
  "language_info": {
   "codemirror_mode": {
    "name": "ipython",
    "version": 3
   },
   "file_extension": ".py",
   "mimetype": "text/x-python",
   "name": "python",
   "nbconvert_exporter": "python",
   "pygments_lexer": "ipython3",
   "version": "3.7.11"
  }
 },
 "nbformat": 4,
 "nbformat_minor": 5
}
