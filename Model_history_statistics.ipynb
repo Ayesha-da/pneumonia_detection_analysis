{
  "nbformat": 4,
  "nbformat_minor": 0,
  "metadata": {
    "colab": {
      "name": "Model_history_statistics.ipynb",
      "provenance": [],
      "collapsed_sections": []
    },
    "kernelspec": {
      "name": "python3",
      "display_name": "Python 3"
    },
    "language_info": {
      "name": "python"
    },
    "accelerator": "GPU"
  },
  "cells": [
    {
      "cell_type": "code",
      "metadata": {
        "id": "DsPtc1jTHhjt"
      },
      "source": [
        "import numpy as np # linear algebra\n",
        "import pandas as pd # data processing"
      ],
      "execution_count": 9,
      "outputs": []
    },
    {
      "cell_type": "code",
      "metadata": {
        "id": "4hUbm2OBHrSy"
      },
      "source": [
        "import cv2"
      ],
      "execution_count": 10,
      "outputs": []
    },
    {
      "cell_type": "code",
      "metadata": {
        "id": "pZkenk02HrVm"
      },
      "source": [
        "# utilities\n",
        "import numpy as np # linear algebra\n",
        "import pandas as pd # data processing\n",
        "import pickle\n",
        "import random\n",
        "\n",
        "# visualization\n",
        "import cv2\n",
        "import matplotlib.pyplot as plt\n",
        "import seaborn as sns\n",
        "\n",
        "# sklearn\n",
        "from sklearn.model_selection import train_test_split\n",
        "from sklearn.metrics import confusion_matrix\n",
        "\n",
        "# tensorflow\n",
        "import tensorflow as tf\n",
        "\n",
        "from tensorflow.keras import Sequential\n",
        "from tensorflow.keras.layers import Dense, Flatten, Dropout, Conv2D, MaxPooling2D, BatchNormalization, Activation\n",
        "\n",
        "from tensorflow.keras.regularizers import l2\n",
        "from keras.preprocessing.image import ImageDataGenerator\n",
        "\n",
        "# ignoring warnings\n",
        "import warnings\n",
        "warnings.filterwarnings('ignore')\n",
        "\n",
        "import os\n",
        "# print(os.listdir(\"../input\"))"
      ],
      "execution_count": 11,
      "outputs": []
    },
    {
      "cell_type": "code",
      "metadata": {
        "colab": {
          "base_uri": "https://localhost:8080/"
        },
        "id": "VuDieoVQHrYp",
        "outputId": "f5d3340c-26b0-4c7b-b25f-dcbd7d00308d"
      },
      "source": [
        "from google.colab import drive\n",
        "drive.mount('/content/drive')"
      ],
      "execution_count": 12,
      "outputs": [
        {
          "output_type": "stream",
          "name": "stdout",
          "text": [
            "Drive already mounted at /content/drive; to attempt to forcibly remount, call drive.mount(\"/content/drive\", force_remount=True).\n"
          ]
        }
      ]
    },
    {
      "cell_type": "code",
      "metadata": {
        "id": "zClV9ItuHrbx"
      },
      "source": [
        "path=\"/content/drive/MyDrive/NIH_dataset_clean/Resources/chest_xray/train/\""
      ],
      "execution_count": 13,
      "outputs": []
    },
    {
      "cell_type": "code",
      "metadata": {
        "id": "8bsYUs7_Hreo"
      },
      "source": [
        "def img_to_array(path, category_no, X, y):\n",
        "    for p in os.listdir(path):\n",
        "        if p == \".DS_Store\":\n",
        "            continue\n",
        "        #print(p)\n",
        "        img = cv2.imread(os.path.join(path, p), cv2.IMREAD_GRAYSCALE)\n",
        "        img_np = cv2.resize(img, dsize = (150, 150))\n",
        "        X.append(img_np)\n",
        "        y.append(category_no)"
      ],
      "execution_count": 14,
      "outputs": []
    },
    {
      "cell_type": "code",
      "metadata": {
        "id": "EpfHwazmHrhw"
      },
      "source": [
        "path_train=\"/content/drive/MyDrive/NIH_dataset_clean/Resources/chest_xray/train/\"\n",
        "\n",
        "\n",
        "category_list = [\"NORMAL\", \"PNEUMONIA\"]\n",
        "\n",
        "X_train = []\n",
        "y_train = []\n",
        "\n",
        "for i in range(len(category_list)):\n",
        "    img_to_array(path_train + category_list[i], i, X_train, y_train)\n",
        "    \n",
        "X_train = np.array(X_train).reshape(-1,150,150,1)\n",
        "y_train = np.array(y_train)"
      ],
      "execution_count": 15,
      "outputs": []
    },
    {
      "cell_type": "code",
      "metadata": {
        "id": "7nhsLf03Hrku"
      },
      "source": [
        "path_val = \"/content/drive/MyDrive/NIH_dataset_clean/Resources/chest_xray/val/\"\n",
        "\n",
        "X_val = []\n",
        "y_val = []\n",
        "\n",
        "for i in range(len(category_list)):\n",
        "    img_to_array(path_val + category_list[i], i, X_val, y_val)\n",
        "    \n",
        "X_val = np.array(X_val).reshape(-1,150,150,1)\n",
        "y_val = np.array(y_val)"
      ],
      "execution_count": 16,
      "outputs": []
    },
    {
      "cell_type": "code",
      "metadata": {
        "id": "GaSeWZ1sIvBt"
      },
      "source": [
        "path_test = \"/content/drive/MyDrive/NIH_dataset_clean/Resources/chest_xray/test/\"\n",
        "\n",
        "category_list = [\"NORMAL\", \"PNEUMONIA\"]\n",
        "X_test = []\n",
        "y_test = []\n",
        "\n",
        "for i in range(len(category_list)):\n",
        "    img_to_array(path_test + category_list[i], i, X_test, y_test)\n",
        "    \n",
        "X_test = np.array(X_test).reshape(-1,150,150,1)\n",
        "y_test = np.array(y_test)"
      ],
      "execution_count": 17,
      "outputs": []
    },
    {
      "cell_type": "code",
      "metadata": {
        "id": "AqSHlyJsIvGG"
      },
      "source": [
        "X_train = X_train / 255\n",
        "X_val = X_val / 255\n",
        "X_test = X_test / 255"
      ],
      "execution_count": 18,
      "outputs": []
    },
    {
      "cell_type": "code",
      "metadata": {
        "id": "ZAfCKCZnIvJh"
      },
      "source": [
        "datagen = ImageDataGenerator(\n",
        "        featurewise_center = False,  # set input mean to 0 over the dataset\n",
        "        samplewise_center = False,  # set each sample mean to 0\n",
        "        featurewise_std_normalization = False,  # divide inputs by std of the dataset\n",
        "        samplewise_std_normalization = False,  # divide each input by its std\n",
        "        zca_whitening = False,  # apply ZCA whitening\n",
        "        rotation_range = 30,  # randomly rotate images in the range (degrees, 0 to 180)\n",
        "        zoom_range = 0.2, # Randomly zoom image \n",
        "        width_shift_range = 0.1,  # randomly shift images horizontally (fraction of total width)\n",
        "        height_shift_range = 0.1,  # randomly shift images vertically (fraction of total height)\n",
        "        horizontal_flip = True,  # randomly flip images\n",
        "        vertical_flip = False)  # randomly flip images\n",
        "\n",
        "\n",
        "datagen.fit(X_train)"
      ],
      "execution_count": 19,
      "outputs": []
    },
    {
      "cell_type": "code",
      "metadata": {
        "id": "cdp0oYrrO1Bv"
      },
      "source": [
        ""
      ],
      "execution_count": null,
      "outputs": []
    },
    {
      "cell_type": "code",
      "metadata": {
        "id": "38bejzpBXvKC"
      },
      "source": [
        "model = Sequential([\n",
        "    Conv2D(32, (3,3), activation = \"relu\", input_shape = (150,150,1)),\n",
        "    BatchNormalization(),\n",
        "    MaxPooling2D(2,2),\n",
        "    Conv2D(64, (3,3), activation = \"relu\"),\n",
        "    Dropout(0.1),\n",
        "    BatchNormalization(),\n",
        "    MaxPooling2D(2,2),\n",
        "    Conv2D(64, (3,3), activation = \"relu\"),\n",
        "    BatchNormalization(),\n",
        "    MaxPooling2D(2,2),\n",
        "    Conv2D(128, (3,3), activation = \"relu\"),\n",
        "    Dropout(0.2),\n",
        "    BatchNormalization(),\n",
        "    MaxPooling2D(2,2),\n",
        "    Conv2D(256, (3,3), activation = \"relu\"),\n",
        "    Dropout(0.2),\n",
        "    BatchNormalization(),\n",
        "    MaxPooling2D(2,2),\n",
        "    Flatten(),\n",
        "    Dense(128, activation = \"relu\"),\n",
        "    Dropout(0.2),\n",
        "    Dense(1, activation = \"sigmoid\")\n",
        "])"
      ],
      "execution_count": 20,
      "outputs": []
    },
    {
      "cell_type": "code",
      "metadata": {
        "id": "OYK5McFnHG_I"
      },
      "source": [
        "model.compile(optimizer = \"rmsprop\", loss = \"binary_crossentropy\", metrics = [\"accuracy\"])"
      ],
      "execution_count": 21,
      "outputs": []
    },
    {
      "cell_type": "code",
      "metadata": {
        "colab": {
          "base_uri": "https://localhost:8080/"
        },
        "id": "ttEdJ6h3HHCI",
        "outputId": "c08c7517-9f19-46ba-9ba5-a51d49bdfbf2"
      },
      "source": [
        "history = model.fit(datagen.flow(X_train, y_train, batch_size = 32), epochs = 25,validation_data = datagen.flow(X_val, y_val))"
      ],
      "execution_count": 23,
      "outputs": [
        {
          "output_type": "stream",
          "name": "stdout",
          "text": [
            "Epoch 1/25\n",
            "163/163 [==============================] - 15s 95ms/step - loss: 0.3529 - accuracy: 0.8570 - val_loss: 9.6508 - val_accuracy: 0.5000\n",
            "Epoch 2/25\n",
            "163/163 [==============================] - 15s 91ms/step - loss: 0.2605 - accuracy: 0.8992 - val_loss: 8.0812 - val_accuracy: 0.5000\n",
            "Epoch 3/25\n",
            "163/163 [==============================] - 15s 90ms/step - loss: 0.2172 - accuracy: 0.9141 - val_loss: 11.5500 - val_accuracy: 0.5000\n",
            "Epoch 4/25\n",
            "163/163 [==============================] - 15s 91ms/step - loss: 0.1982 - accuracy: 0.9264 - val_loss: 14.8486 - val_accuracy: 0.5000\n",
            "Epoch 5/25\n",
            "163/163 [==============================] - 15s 92ms/step - loss: 0.1903 - accuracy: 0.9233 - val_loss: 1.3353 - val_accuracy: 0.4375\n",
            "Epoch 6/25\n",
            "163/163 [==============================] - 15s 92ms/step - loss: 0.1827 - accuracy: 0.9344 - val_loss: 0.3586 - val_accuracy: 0.9375\n",
            "Epoch 7/25\n",
            "163/163 [==============================] - 15s 91ms/step - loss: 0.1784 - accuracy: 0.9415 - val_loss: 6.1105 - val_accuracy: 0.5000\n",
            "Epoch 8/25\n",
            "163/163 [==============================] - 15s 91ms/step - loss: 0.1645 - accuracy: 0.9352 - val_loss: 1.1890 - val_accuracy: 0.5625\n",
            "Epoch 9/25\n",
            "163/163 [==============================] - 15s 91ms/step - loss: 0.1452 - accuracy: 0.9444 - val_loss: 11.8967 - val_accuracy: 0.5000\n",
            "Epoch 10/25\n",
            "163/163 [==============================] - 15s 91ms/step - loss: 0.1627 - accuracy: 0.9433 - val_loss: 1.8854 - val_accuracy: 0.5000\n",
            "Epoch 11/25\n",
            "163/163 [==============================] - 15s 91ms/step - loss: 0.1497 - accuracy: 0.9452 - val_loss: 1.4065 - val_accuracy: 0.5625\n",
            "Epoch 12/25\n",
            "163/163 [==============================] - 15s 91ms/step - loss: 0.1453 - accuracy: 0.9446 - val_loss: 1.5475 - val_accuracy: 0.5000\n",
            "Epoch 13/25\n",
            "163/163 [==============================] - 15s 90ms/step - loss: 0.1394 - accuracy: 0.9484 - val_loss: 0.7241 - val_accuracy: 0.5625\n",
            "Epoch 14/25\n",
            "163/163 [==============================] - 15s 91ms/step - loss: 0.1403 - accuracy: 0.9523 - val_loss: 0.7972 - val_accuracy: 0.6250\n",
            "Epoch 15/25\n",
            "163/163 [==============================] - 15s 91ms/step - loss: 0.1444 - accuracy: 0.9498 - val_loss: 3.8401 - val_accuracy: 0.5000\n",
            "Epoch 16/25\n",
            "163/163 [==============================] - 15s 90ms/step - loss: 0.1368 - accuracy: 0.9586 - val_loss: 0.8005 - val_accuracy: 0.5000\n",
            "Epoch 17/25\n",
            "163/163 [==============================] - 15s 90ms/step - loss: 0.1317 - accuracy: 0.9523 - val_loss: 11.7052 - val_accuracy: 0.5625\n",
            "Epoch 18/25\n",
            "163/163 [==============================] - 15s 90ms/step - loss: 0.1300 - accuracy: 0.9542 - val_loss: 0.7908 - val_accuracy: 0.5625\n",
            "Epoch 19/25\n",
            "163/163 [==============================] - 15s 91ms/step - loss: 0.1253 - accuracy: 0.9548 - val_loss: 2.0208 - val_accuracy: 0.5000\n",
            "Epoch 20/25\n",
            "163/163 [==============================] - 15s 91ms/step - loss: 0.1280 - accuracy: 0.9540 - val_loss: 0.7754 - val_accuracy: 0.6250\n",
            "Epoch 21/25\n",
            "163/163 [==============================] - 15s 91ms/step - loss: 0.1135 - accuracy: 0.9590 - val_loss: 4.5270 - val_accuracy: 0.5000\n",
            "Epoch 22/25\n",
            "163/163 [==============================] - 15s 90ms/step - loss: 0.1225 - accuracy: 0.9588 - val_loss: 5.0805 - val_accuracy: 0.6250\n",
            "Epoch 23/25\n",
            "163/163 [==============================] - 15s 90ms/step - loss: 0.1227 - accuracy: 0.9586 - val_loss: 0.7244 - val_accuracy: 0.5625\n",
            "Epoch 24/25\n",
            "163/163 [==============================] - 15s 91ms/step - loss: 0.1185 - accuracy: 0.9580 - val_loss: 1.2711 - val_accuracy: 0.5625\n",
            "Epoch 25/25\n",
            "163/163 [==============================] - 15s 90ms/step - loss: 0.1105 - accuracy: 0.9617 - val_loss: 0.9449 - val_accuracy: 0.5625\n"
          ]
        }
      ]
    },
    {
      "cell_type": "code",
      "metadata": {
        "colab": {
          "base_uri": "https://localhost:8080/"
        },
        "id": "hZLr7AqoHHEf",
        "outputId": "e3ae83f9-f6fa-4712-f9f8-3a69e79acb14"
      },
      "source": [
        "model.summary()"
      ],
      "execution_count": 24,
      "outputs": [
        {
          "output_type": "stream",
          "name": "stdout",
          "text": [
            "Model: \"sequential\"\n",
            "_________________________________________________________________\n",
            " Layer (type)                Output Shape              Param #   \n",
            "=================================================================\n",
            " conv2d (Conv2D)             (None, 148, 148, 32)      320       \n",
            "                                                                 \n",
            " batch_normalization (BatchN  (None, 148, 148, 32)     128       \n",
            " ormalization)                                                   \n",
            "                                                                 \n",
            " max_pooling2d (MaxPooling2D  (None, 74, 74, 32)       0         \n",
            " )                                                               \n",
            "                                                                 \n",
            " conv2d_1 (Conv2D)           (None, 72, 72, 64)        18496     \n",
            "                                                                 \n",
            " dropout (Dropout)           (None, 72, 72, 64)        0         \n",
            "                                                                 \n",
            " batch_normalization_1 (Batc  (None, 72, 72, 64)       256       \n",
            " hNormalization)                                                 \n",
            "                                                                 \n",
            " max_pooling2d_1 (MaxPooling  (None, 36, 36, 64)       0         \n",
            " 2D)                                                             \n",
            "                                                                 \n",
            " conv2d_2 (Conv2D)           (None, 34, 34, 64)        36928     \n",
            "                                                                 \n",
            " batch_normalization_2 (Batc  (None, 34, 34, 64)       256       \n",
            " hNormalization)                                                 \n",
            "                                                                 \n",
            " max_pooling2d_2 (MaxPooling  (None, 17, 17, 64)       0         \n",
            " 2D)                                                             \n",
            "                                                                 \n",
            " conv2d_3 (Conv2D)           (None, 15, 15, 128)       73856     \n",
            "                                                                 \n",
            " dropout_1 (Dropout)         (None, 15, 15, 128)       0         \n",
            "                                                                 \n",
            " batch_normalization_3 (Batc  (None, 15, 15, 128)      512       \n",
            " hNormalization)                                                 \n",
            "                                                                 \n",
            " max_pooling2d_3 (MaxPooling  (None, 7, 7, 128)        0         \n",
            " 2D)                                                             \n",
            "                                                                 \n",
            " conv2d_4 (Conv2D)           (None, 5, 5, 256)         295168    \n",
            "                                                                 \n",
            " dropout_2 (Dropout)         (None, 5, 5, 256)         0         \n",
            "                                                                 \n",
            " batch_normalization_4 (Batc  (None, 5, 5, 256)        1024      \n",
            " hNormalization)                                                 \n",
            "                                                                 \n",
            " max_pooling2d_4 (MaxPooling  (None, 2, 2, 256)        0         \n",
            " 2D)                                                             \n",
            "                                                                 \n",
            " flatten (Flatten)           (None, 1024)              0         \n",
            "                                                                 \n",
            " dense (Dense)               (None, 128)               131200    \n",
            "                                                                 \n",
            " dropout_3 (Dropout)         (None, 128)               0         \n",
            "                                                                 \n",
            " dense_1 (Dense)             (None, 1)                 129       \n",
            "                                                                 \n",
            "=================================================================\n",
            "Total params: 558,273\n",
            "Trainable params: 557,185\n",
            "Non-trainable params: 1,088\n",
            "_________________________________________________________________\n"
          ]
        }
      ]
    },
    {
      "cell_type": "code",
      "metadata": {
        "colab": {
          "base_uri": "https://localhost:8080/"
        },
        "id": "DC4VRlQrHHKF",
        "outputId": "0259aabb-39b5-4f83-e591-cd9ded48171c"
      },
      "source": [
        "_, accuracy = model.evaluate(X_test, y_test)\n",
        "print(\"Accuracy: %.2f\" % (accuracy*100))"
      ],
      "execution_count": 25,
      "outputs": [
        {
          "output_type": "stream",
          "name": "stdout",
          "text": [
            "20/20 [==============================] - 1s 25ms/step - loss: 0.3686 - accuracy: 0.8429\n",
            "Accuracy: 84.29\n"
          ]
        }
      ]
    },
    {
      "cell_type": "code",
      "metadata": {
        "id": "qc9-lHP8HHOJ"
      },
      "source": [
        "train_loss = history.history['loss']\n",
        "val_loss = history.history['val_loss']"
      ],
      "execution_count": 29,
      "outputs": []
    },
    {
      "cell_type": "code",
      "metadata": {
        "id": "Q6jBTkA5jkg0"
      },
      "source": [
        " train_auc_name = list(history.history.keys())[3]\n",
        " val_auc_name = list(history.history.keys())[1]\n",
        " train_auc = history.history[train_auc_name]\n",
        "val_auc = history.history[val_auc_name]"
      ],
      "execution_count": 31,
      "outputs": []
    },
    {
      "cell_type": "code",
      "metadata": {
        "colab": {
          "base_uri": "https://localhost:8080/"
        },
        "id": "oCZ9etnH5Lj0",
        "outputId": "9d3883d9-10af-43e7-8d76-b0e14df2a295"
      },
      "source": [
        "test_datagen = ImageDataGenerator(rescale=1.0/255.0)\n",
        "test_generator = test_datagen.flow_from_directory(directory = path_test, \n",
        "                                                 target_size = (150, 150),\n",
        "                                                 batch_size = 32, \n",
        "                                                 class_mode = 'binary',\n",
        "                                                 color_mode = 'grayscale',\n",
        "                                                 shuffle=False,\n",
        "                                                 seed = 42)"
      ],
      "execution_count": 40,
      "outputs": [
        {
          "output_type": "stream",
          "name": "stdout",
          "text": [
            "Found 624 images belonging to 2 classes.\n"
          ]
        }
      ]
    },
    {
      "cell_type": "code",
      "metadata": {
        "id": "-jND5wqxjkjz"
      },
      "source": [
        "   y_true = test_generator.classes\n",
        "   Y_pred = model.predict_generator(test_generator, steps = len(test_generator))\n",
        "   y_pred = (Y_pred > 0.5).T[0]\n",
        "   y_pred_prob = Y_pred.T[0]"
      ],
      "execution_count": 47,
      "outputs": []
    },
    {
      "cell_type": "code",
      "metadata": {
        "colab": {
          "base_uri": "https://localhost:8080/",
          "height": 33
        },
        "id": "PmgNaFYwjjcB",
        "outputId": "ffc3b71d-4fd6-462b-a592-8567ab197ee1"
      },
      "source": [
        "fig = plt.figure(figsize=(123, 120))\n"
      ],
      "execution_count": 49,
      "outputs": [
        {
          "output_type": "display_data",
          "data": {
            "text/plain": [
              "<Figure size 8856x8640 with 0 Axes>"
            ]
          },
          "metadata": {}
        }
      ]
    },
    {
      "cell_type": "code",
      "metadata": {
        "colab": {
          "base_uri": "https://localhost:8080/",
          "height": 315
        },
        "id": "1YhQzYjWjjfL",
        "outputId": "45b3a792-0e3f-4a49-de3b-2ff7c7b9d068"
      },
      "source": [
        "   ## PLOT 1: TRAIN VS. VALIDATION LOSS \n",
        "#plt.subplot(12,12,11)\n",
        "plt.title(\"Training vs. Validation Loss\")\n",
        "plt.plot(train_loss, label='training loss')\n",
        "plt.plot(val_loss, label='validation loss')\n",
        "plt.xlabel(\"Number of Epochs\", size=14)\n",
        "plt.legend()"
      ],
      "execution_count": 52,
      "outputs": [
        {
          "output_type": "execute_result",
          "data": {
            "text/plain": [
              "<matplotlib.legend.Legend at 0x7f41baa21390>"
            ]
          },
          "metadata": {},
          "execution_count": 52
        },
        {
          "output_type": "display_data",
          "data": {
            "image/png": "[encoded data removed]",
            "text/plain": [
              "<Figure size 432x288 with 1 Axes>"
            ]
          },
          "metadata": {
            "needs_background": "light"
          }
        }
      ]
    },
    {
      "cell_type": "code",
      "metadata": {
        "colab": {
          "base_uri": "https://localhost:8080/",
          "height": 315
        },
        "id": "zhvrfn9Gjjhz",
        "outputId": "2e6c167f-1331-4bc3-a3f0-2a3905be472d"
      },
      "source": [
        "## PLOT 2: TRAIN VS. VALIDATION AUC\n",
        "    #plt.subplot(2,2,2)\n",
        "plt.title(\"Training vs. Validation AUC Score\")\n",
        "plt.plot(train_auc, label='training auc')\n",
        "plt.plot(val_auc, label='validation auc')\n",
        "plt.xlabel(\"Number of Epochs\", size=14)\n",
        "plt.legend()"
      ],
      "execution_count": 53,
      "outputs": [
        {
          "output_type": "execute_result",
          "data": {
            "text/plain": [
              "<matplotlib.legend.Legend at 0x7f41ba99e390>"
            ]
          },
          "metadata": {},
          "execution_count": 53
        },
        {
          "output_type": "display_data",
          "data": {
            "image/png": "[encoded data removed]",
            "text/plain": [
              "<Figure size 432x288 with 1 Axes>"
            ]
          },
          "metadata": {
            "needs_background": "light"
          }
        }
      ]
    },
    {
      "cell_type": "code",
      "metadata": {
        "id": "zf3ZkZckjjkb"
      },
      "source": [
        "   ## PLOT 3: CONFUSION MATRIX\n",
        "    #plt.subplot(2,2,3)\n",
        "      # Set up the labels for in the confusion matrix\n",
        "cm = confusion_matrix(y_true, y_pred)\n",
        "names = ['True Negatives', 'False Positives', 'False Negatives', 'True Positives']\n",
        "counts = ['{0:0.0f}'.format(value) for value in cm.flatten()]\n",
        "percentages = ['{0:.2%}'.format(value) for value in cm.flatten()/np.sum(cm)]\n",
        "labels = [f'{v1}\\n{v2}' for v1, v2 in zip(names, percentages)]\n",
        "labels = np.asarray(labels).reshape(2,2)\n",
        "ticklabels = ['Normal', 'Pneumonia']"
      ],
      "execution_count": 55,
      "outputs": []
    },
    {
      "cell_type": "code",
      "metadata": {
        "colab": {
          "base_uri": "https://localhost:8080/",
          "height": 325
        },
        "id": "wuB1eSNzkt20",
        "outputId": "03be36ad-b460-4df6-f216-e529be670824"
      },
      "source": [
        "    # Create confusion matrix as heatmap\n",
        "sns.set(font_scale = 1.4)\n",
        "ax = sns.heatmap(cm, annot=labels, fmt='', cmap='Oranges', xticklabels=ticklabels, yticklabels=ticklabels )\n",
        "plt.xticks(size=12)\n",
        "plt.yticks(size=12)\n",
        "plt.title(\"Confusion Matrix\") #plt.title(\"Confusion Matrix\\n\", fontsize=10)\n",
        "plt.xlabel(\"Predicted\", size=14)\n",
        "plt.ylabel(\"Actual\", size=14) \n",
        "    #plt.savefig('cm.png', transparent=True)"
      ],
      "execution_count": 56,
      "outputs": [
        {
          "output_type": "execute_result",
          "data": {
            "text/plain": [
              "Text(25.499999999999993, 0.5, 'Actual')"
            ]
          },
          "metadata": {},
          "execution_count": 56
        },
        {
          "output_type": "display_data",
          "data": {
            "image/png": "[encoded data removed]",
            "text/plain": [
              "<Figure size 432x288 with 2 Axes>"
            ]
          },
          "metadata": {}
        }
      ]
    },
    {
      "cell_type": "code",
      "metadata": {
        "colab": {
          "base_uri": "https://localhost:8080/",
          "height": 327
        },
        "id": "IaQXLiOgkt5q",
        "outputId": "33a085eb-8c60-40f7-a721-c5369d71ecbe"
      },
      "source": [
        "    ## PLOT 4: ROC CURVE\n",
        "    #plt.subplot(2,2,4)\n",
        "from sklearn.metrics import roc_curve,roc_auc_score\n",
        "fpr, tpr, thresholds = roc_curve(y_true, y_pred_prob)\n",
        "auc = roc_auc_score(y_true, y_pred_prob)\n",
        "plt.title('ROC Curve')\n",
        "plt.plot([0, 1], [0, 1], 'k--', label = \"Random (AUC = 50%)\")\n",
        "plt.plot(fpr, tpr, label='CNN (AUC = {:.2f}%)'.format(auc*100))\n",
        "plt.xlabel('False Positive Rate', size=14)\n",
        "plt.ylabel('True Positive Rate', size=14)\n",
        "plt.legend(loc='best')\n",
        "    #plt.savefig('roc.png', bbox_inches='tight', pad_inches=1)"
      ],
      "execution_count": 58,
      "outputs": [
        {
          "output_type": "execute_result",
          "data": {
            "text/plain": [
              "<matplotlib.legend.Legend at 0x7f41ba9e7610>"
            ]
          },
          "metadata": {},
          "execution_count": 58
        },
        {
          "output_type": "display_data",
          "data": {
            "image/png": "[encoded data removed]",
            "text/plain": [
              "<Figure size 432x288 with 1 Axes>"
            ]
          },
          "metadata": {}
        }
      ]
    },
    {
      "cell_type": "code",
      "metadata": {
        "id": "sb6CZHwVkt8m"
      },
      "source": [
        ""
      ],
      "execution_count": null,
      "outputs": []
    },
    {
      "cell_type": "code",
      "metadata": {
        "colab": {
          "base_uri": "https://localhost:8080/"
        },
        "id": "R7Y0v9z1kt_q",
        "outputId": "736fafb6-e93d-4d7f-fb22-811b6f8f7029"
      },
      "source": [
        "    ## Summary Statistics\n",
        "TN, FP, FN, TP = cm.ravel() # cm[0,0], cm[0, 1], cm[1, 0], cm[1, 1]\n",
        "accuracy = (TP + TN) / np.sum(cm) # % positive out of all predicted positives\n",
        "precision = TP / (TP+FP) # % positive out of all predicted positives\n",
        "recall =  TP / (TP+FN) # % positive out of all supposed to be positives\n",
        "specificity = TN / (TN+FP) # % negative out of all supposed to be negatives\n",
        "f1 = 2*precision*recall / (precision + recall)\n",
        "    stats_summary = '[Summary Statistics]\\nAccuracy = {:.2%} | Precision = {:.2%} | Recall = {:.2%} | Specificity = {:.2%} | F1 Score = {:.2%}'.format(accuracy, precision, recall, specificity, f1)\n",
        "    print(stats_summary)"
      ],
      "execution_count": 59,
      "outputs": [
        {
          "output_type": "stream",
          "name": "stdout",
          "text": [
            "[Summary Statistics]\n",
            "Accuracy = 84.13% | Precision = 95.33% | Recall = 78.46% | Specificity = 93.59% | F1 Score = 86.08%\n"
          ]
        }
      ]
    },
    {
      "cell_type": "code",
      "metadata": {
        "id": "0l80orlJkuCh"
      },
      "source": [
        ""
      ],
      "execution_count": null,
      "outputs": []
    }
  ]
}