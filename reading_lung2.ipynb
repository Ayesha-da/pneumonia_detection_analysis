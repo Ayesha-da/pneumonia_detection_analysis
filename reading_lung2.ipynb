{
  "nbformat": 4,
  "nbformat_minor": 0,
  "metadata": {
    "colab": {
      "name": "reading_lung2.ipynb",
      "provenance": [],
      "collapsed_sections": []
    },
    "kernelspec": {
      "name": "python3",
      "display_name": "Python 3"
    },
    "language_info": {
      "name": "python"
    },
    "accelerator": "GPU"
  },
  "cells": [
    {
      "cell_type": "code",
      "metadata": {
        "id": "DsPtc1jTHhjt"
      },
      "source": [
        "import numpy as np # linear algebra\n",
        "import pandas as pd # data processing"
      ],
      "execution_count": 6,
      "outputs": []
    },
    {
      "cell_type": "code",
      "metadata": {
        "id": "4hUbm2OBHrSy"
      },
      "source": [
        "import cv2"
      ],
      "execution_count": 7,
      "outputs": []
    },
    {
      "cell_type": "code",
      "metadata": {
        "id": "pZkenk02HrVm"
      },
      "source": [
        "# utilities\n",
        "import numpy as np # linear algebra\n",
        "import pandas as pd # data processing\n",
        "import pickle\n",
        "import random\n",
        "\n",
        "# visualization\n",
        "import cv2\n",
        "import matplotlib.pyplot as plt\n",
        "import seaborn as sns\n",
        "\n",
        "# sklearn\n",
        "from sklearn.model_selection import train_test_split\n",
        "from sklearn.metrics import confusion_matrix\n",
        "\n",
        "# tensorflow\n",
        "import tensorflow as tf\n",
        "\n",
        "from tensorflow.keras import Sequential\n",
        "from tensorflow.keras.layers import Dense, Flatten, Dropout, Conv2D, MaxPooling2D, BatchNormalization, Activation\n",
        "\n",
        "from tensorflow.keras.regularizers import l2\n",
        "from keras.preprocessing.image import ImageDataGenerator\n",
        "\n",
        "# ignoring warnings\n",
        "import warnings\n",
        "warnings.filterwarnings('ignore')\n",
        "\n",
        "import os\n",
        "# print(os.listdir(\"../input\"))"
      ],
      "execution_count": 8,
      "outputs": []
    },
    {
      "cell_type": "code",
      "metadata": {
        "colab": {
          "base_uri": "https://localhost:8080/"
        },
        "id": "VuDieoVQHrYp",
        "outputId": "7994f999-2756-4605-fc80-8b5c0985612b"
      },
      "source": [
        "from google.colab import drive\n",
        "drive.mount('/content/drive')"
      ],
      "execution_count": 9,
      "outputs": [
        {
          "output_type": "stream",
          "name": "stdout",
          "text": [
            "Mounted at /content/drive\n"
          ]
        }
      ]
    },
    {
      "cell_type": "code",
      "metadata": {
        "id": "zClV9ItuHrbx"
      },
      "source": [
        "path=\"/content/drive/MyDrive/NIH_dataset_clean/Resources/chest_xray/train/\""
      ],
      "execution_count": 10,
      "outputs": []
    },
    {
      "cell_type": "code",
      "metadata": {
        "id": "8bsYUs7_Hreo"
      },
      "source": [
        "def img_to_array(path, category_no, X, y):\n",
        "    for p in os.listdir(path):\n",
        "        if p == \".DS_Store\":\n",
        "            continue\n",
        "        #print(p)\n",
        "        img = cv2.imread(os.path.join(path, p), cv2.IMREAD_GRAYSCALE)\n",
        "        img_np = cv2.resize(img, dsize = (150, 150))\n",
        "        X.append(img_np)\n",
        "        y.append(category_no)"
      ],
      "execution_count": 11,
      "outputs": []
    },
    {
      "cell_type": "code",
      "metadata": {
        "id": "EpfHwazmHrhw"
      },
      "source": [
        "path_train=\"/content/drive/MyDrive/NIH_dataset_clean/Resources/chest_xray/train/\"\n",
        "\n",
        "\n",
        "category_list = [\"NORMAL\", \"PNEUMONIA\"]\n",
        "\n",
        "X_train = []\n",
        "y_train = []\n",
        "\n",
        "for i in range(len(category_list)):\n",
        "    img_to_array(path_train + category_list[i], i, X_train, y_train)\n",
        "    \n",
        "X_train = np.array(X_train).reshape(-1,150,150,1)\n",
        "y_train = np.array(y_train)"
      ],
      "execution_count": 12,
      "outputs": []
    },
    {
      "cell_type": "code",
      "metadata": {
        "id": "7nhsLf03Hrku"
      },
      "source": [
        "path_val = \"/content/drive/MyDrive/NIH_dataset_clean/Resources/chest_xray/val/\"\n",
        "\n",
        "X_val = []\n",
        "y_val = []\n",
        "\n",
        "for i in range(len(category_list)):\n",
        "    img_to_array(path_val + category_list[i], i, X_val, y_val)\n",
        "    \n",
        "X_val = np.array(X_val).reshape(-1,150,150,1)\n",
        "y_val = np.array(y_val)"
      ],
      "execution_count": 13,
      "outputs": []
    },
    {
      "cell_type": "code",
      "metadata": {
        "id": "GaSeWZ1sIvBt"
      },
      "source": [
        "path_test = \"/content/drive/MyDrive/NIH_dataset_clean/Resources/chest_xray/test/\"\n",
        "\n",
        "category_list = [\"NORMAL\", \"PNEUMONIA\"]\n",
        "X_test = []\n",
        "y_test = []\n",
        "\n",
        "for i in range(len(category_list)):\n",
        "    img_to_array(path_test + category_list[i], i, X_test, y_test)\n",
        "    \n",
        "X_test = np.array(X_test).reshape(-1,150,150,1)\n",
        "y_test = np.array(y_test)"
      ],
      "execution_count": 14,
      "outputs": []
    },
    {
      "cell_type": "code",
      "metadata": {
        "id": "AqSHlyJsIvGG"
      },
      "source": [
        "X_train = X_train / 255\n",
        "X_val = X_val / 255\n",
        "X_test = X_test / 255"
      ],
      "execution_count": 15,
      "outputs": []
    },
    {
      "cell_type": "code",
      "metadata": {
        "id": "ZAfCKCZnIvJh"
      },
      "source": [
        "datagen = ImageDataGenerator(\n",
        "        featurewise_center = False,  # set input mean to 0 over the dataset\n",
        "        samplewise_center = False,  # set each sample mean to 0\n",
        "        featurewise_std_normalization = False,  # divide inputs by std of the dataset\n",
        "        samplewise_std_normalization = False,  # divide each input by its std\n",
        "        zca_whitening = False,  # apply ZCA whitening\n",
        "        rotation_range = 30,  # randomly rotate images in the range (degrees, 0 to 180)\n",
        "        zoom_range = 0.2, # Randomly zoom image \n",
        "        width_shift_range = 0.1,  # randomly shift images horizontally (fraction of total width)\n",
        "        height_shift_range = 0.1,  # randomly shift images vertically (fraction of total height)\n",
        "        horizontal_flip = True,  # randomly flip images\n",
        "        vertical_flip = False)  # randomly flip images\n",
        "\n",
        "\n",
        "datagen.fit(X_train)"
      ],
      "execution_count": 33,
      "outputs": []
    },
    {
      "cell_type": "code",
      "metadata": {
        "id": "cdp0oYrrO1Bv"
      },
      "source": [
        ""
      ],
      "execution_count": null,
      "outputs": []
    },
    {
      "cell_type": "code",
      "metadata": {
        "id": "38bejzpBXvKC"
      },
      "source": [
        "model = Sequential([\n",
        "    Conv2D(32, (3,3), activation = \"relu\", input_shape = (150,150,1)),\n",
        "    BatchNormalization(),\n",
        "    MaxPooling2D(2,2),\n",
        "    Conv2D(64, (3,3), activation = \"relu\"),\n",
        "    Dropout(0.1),\n",
        "    BatchNormalization(),\n",
        "    MaxPooling2D(2,2),\n",
        "    Conv2D(64, (3,3), activation = \"relu\"),\n",
        "    BatchNormalization(),\n",
        "    MaxPooling2D(2,2),\n",
        "    Conv2D(128, (3,3), activation = \"relu\"),\n",
        "    Dropout(0.2),\n",
        "    BatchNormalization(),\n",
        "    MaxPooling2D(2,2),\n",
        "    Conv2D(256, (3,3), activation = \"relu\"),\n",
        "    Dropout(0.2),\n",
        "    BatchNormalization(),\n",
        "    MaxPooling2D(2,2),\n",
        "    Flatten(),\n",
        "    Dense(128, activation = \"relu\"),\n",
        "    Dropout(0.2),\n",
        "    Dense(1, activation = \"sigmoid\")\n",
        "])"
      ],
      "execution_count": 34,
      "outputs": []
    },
    {
      "cell_type": "code",
      "metadata": {
        "id": "OYK5McFnHG_I"
      },
      "source": [
        "model.compile(optimizer = \"rmsprop\", loss = \"binary_crossentropy\", metrics = [\"accuracy\"])"
      ],
      "execution_count": 35,
      "outputs": []
    },
    {
      "cell_type": "code",
      "metadata": {
        "colab": {
          "base_uri": "https://localhost:8080/"
        },
        "id": "ttEdJ6h3HHCI",
        "outputId": "0fcf3479-b7e1-4cfe-d1e8-3b5fdfe59c4b"
      },
      "source": [
        "history = model.fit(datagen.flow(X_train, y_train, batch_size = 32), epochs = 50)#,validation_data = datagen.flow(X_val, y_val)"
      ],
      "execution_count": 36,
      "outputs": [
        {
          "output_type": "stream",
          "name": "stdout",
          "text": [
            "Epoch 1/50\n",
            "163/163 [==============================] - 17s 91ms/step - loss: 0.3815 - accuracy: 0.8476\n",
            "Epoch 2/50\n",
            "163/163 [==============================] - 15s 91ms/step - loss: 0.2563 - accuracy: 0.8923\n",
            "Epoch 3/50\n",
            "163/163 [==============================] - 15s 92ms/step - loss: 0.2289 - accuracy: 0.9057\n",
            "Epoch 4/50\n",
            "163/163 [==============================] - 15s 91ms/step - loss: 0.1987 - accuracy: 0.9237\n",
            "Epoch 5/50\n",
            "163/163 [==============================] - 15s 91ms/step - loss: 0.1899 - accuracy: 0.9296\n",
            "Epoch 6/50\n",
            "163/163 [==============================] - 15s 91ms/step - loss: 0.1688 - accuracy: 0.9385\n",
            "Epoch 7/50\n",
            "163/163 [==============================] - 15s 91ms/step - loss: 0.1611 - accuracy: 0.9400\n",
            "Epoch 8/50\n",
            "163/163 [==============================] - 15s 91ms/step - loss: 0.1595 - accuracy: 0.9396\n",
            "Epoch 9/50\n",
            "163/163 [==============================] - 15s 91ms/step - loss: 0.1518 - accuracy: 0.9475\n",
            "Epoch 10/50\n",
            "163/163 [==============================] - 15s 91ms/step - loss: 0.1557 - accuracy: 0.9465\n",
            "Epoch 11/50\n",
            "163/163 [==============================] - 15s 92ms/step - loss: 0.1400 - accuracy: 0.9505\n",
            "Epoch 12/50\n",
            "163/163 [==============================] - 15s 91ms/step - loss: 0.1486 - accuracy: 0.9461\n",
            "Epoch 13/50\n",
            "163/163 [==============================] - 15s 92ms/step - loss: 0.1404 - accuracy: 0.9534\n",
            "Epoch 14/50\n",
            "163/163 [==============================] - 15s 92ms/step - loss: 0.1376 - accuracy: 0.9482\n",
            "Epoch 15/50\n",
            "163/163 [==============================] - 15s 93ms/step - loss: 0.1321 - accuracy: 0.9517\n",
            "Epoch 16/50\n",
            "163/163 [==============================] - 15s 93ms/step - loss: 0.1346 - accuracy: 0.9490\n",
            "Epoch 17/50\n",
            "163/163 [==============================] - 15s 92ms/step - loss: 0.1311 - accuracy: 0.9544\n",
            "Epoch 18/50\n",
            "163/163 [==============================] - 15s 92ms/step - loss: 0.1388 - accuracy: 0.9515\n",
            "Epoch 19/50\n",
            "163/163 [==============================] - 15s 93ms/step - loss: 0.1305 - accuracy: 0.9521\n",
            "Epoch 20/50\n",
            "163/163 [==============================] - 15s 91ms/step - loss: 0.1234 - accuracy: 0.9605\n",
            "Epoch 21/50\n",
            "163/163 [==============================] - 15s 93ms/step - loss: 0.1268 - accuracy: 0.9540\n",
            "Epoch 22/50\n",
            "163/163 [==============================] - 15s 93ms/step - loss: 0.1105 - accuracy: 0.9594\n",
            "Epoch 23/50\n",
            "163/163 [==============================] - 15s 93ms/step - loss: 0.1203 - accuracy: 0.9597\n",
            "Epoch 24/50\n",
            "163/163 [==============================] - 15s 92ms/step - loss: 0.1169 - accuracy: 0.9578\n",
            "Epoch 25/50\n",
            "163/163 [==============================] - 15s 91ms/step - loss: 0.1265 - accuracy: 0.9536\n",
            "Epoch 26/50\n",
            "163/163 [==============================] - 15s 92ms/step - loss: 0.1188 - accuracy: 0.9603\n",
            "Epoch 27/50\n",
            "163/163 [==============================] - 15s 92ms/step - loss: 0.1097 - accuracy: 0.9590\n",
            "Epoch 28/50\n",
            "163/163 [==============================] - 15s 92ms/step - loss: 0.1206 - accuracy: 0.9571\n",
            "Epoch 29/50\n",
            "163/163 [==============================] - 15s 92ms/step - loss: 0.1189 - accuracy: 0.9584\n",
            "Epoch 30/50\n",
            "163/163 [==============================] - 15s 92ms/step - loss: 0.1157 - accuracy: 0.9572\n",
            "Epoch 31/50\n",
            "163/163 [==============================] - 15s 92ms/step - loss: 0.1110 - accuracy: 0.9613\n",
            "Epoch 32/50\n",
            "163/163 [==============================] - 15s 91ms/step - loss: 0.1033 - accuracy: 0.9618\n",
            "Epoch 33/50\n",
            "163/163 [==============================] - 15s 90ms/step - loss: 0.1055 - accuracy: 0.9580\n",
            "Epoch 34/50\n",
            "163/163 [==============================] - 15s 90ms/step - loss: 0.0943 - accuracy: 0.9624\n",
            "Epoch 35/50\n",
            "163/163 [==============================] - 15s 89ms/step - loss: 0.1054 - accuracy: 0.9603\n",
            "Epoch 36/50\n",
            "163/163 [==============================] - 15s 91ms/step - loss: 0.1126 - accuracy: 0.9641\n",
            "Epoch 37/50\n",
            "163/163 [==============================] - 15s 89ms/step - loss: 0.1034 - accuracy: 0.9634\n",
            "Epoch 38/50\n",
            "163/163 [==============================] - 14s 89ms/step - loss: 0.1088 - accuracy: 0.9620\n",
            "Epoch 39/50\n",
            "163/163 [==============================] - 15s 89ms/step - loss: 0.1037 - accuracy: 0.9647\n",
            "Epoch 40/50\n",
            "163/163 [==============================] - 15s 91ms/step - loss: 0.0957 - accuracy: 0.9640\n",
            "Epoch 41/50\n",
            "163/163 [==============================] - 15s 92ms/step - loss: 0.1053 - accuracy: 0.9617\n",
            "Epoch 42/50\n",
            "163/163 [==============================] - 15s 91ms/step - loss: 0.0994 - accuracy: 0.9649\n",
            "Epoch 43/50\n",
            "163/163 [==============================] - 15s 92ms/step - loss: 0.1053 - accuracy: 0.9651\n",
            "Epoch 44/50\n",
            "163/163 [==============================] - 15s 89ms/step - loss: 0.1067 - accuracy: 0.9634\n",
            "Epoch 45/50\n",
            "163/163 [==============================] - 15s 91ms/step - loss: 0.1020 - accuracy: 0.9666\n",
            "Epoch 46/50\n",
            "163/163 [==============================] - 15s 92ms/step - loss: 0.1055 - accuracy: 0.9645\n",
            "Epoch 47/50\n",
            "163/163 [==============================] - 15s 92ms/step - loss: 0.0977 - accuracy: 0.9663\n",
            "Epoch 48/50\n",
            "163/163 [==============================] - 15s 92ms/step - loss: 0.0955 - accuracy: 0.9666\n",
            "Epoch 49/50\n",
            "163/163 [==============================] - 15s 92ms/step - loss: 0.0903 - accuracy: 0.9670\n",
            "Epoch 50/50\n",
            "163/163 [==============================] - 15s 92ms/step - loss: 0.1021 - accuracy: 0.9643\n"
          ]
        }
      ]
    },
    {
      "cell_type": "code",
      "metadata": {
        "colab": {
          "base_uri": "https://localhost:8080/"
        },
        "id": "hZLr7AqoHHEf",
        "outputId": "857fcf38-5c58-46aa-b17e-c019e5b7aefc"
      },
      "source": [
        "model.summary()"
      ],
      "execution_count": 37,
      "outputs": [
        {
          "output_type": "stream",
          "name": "stdout",
          "text": [
            "Model: \"sequential_2\"\n",
            "_________________________________________________________________\n",
            " Layer (type)                Output Shape              Param #   \n",
            "=================================================================\n",
            " conv2d_10 (Conv2D)          (None, 148, 148, 32)      320       \n",
            "                                                                 \n",
            " batch_normalization_10 (Bat  (None, 148, 148, 32)     128       \n",
            " chNormalization)                                                \n",
            "                                                                 \n",
            " max_pooling2d_10 (MaxPoolin  (None, 74, 74, 32)       0         \n",
            " g2D)                                                            \n",
            "                                                                 \n",
            " conv2d_11 (Conv2D)          (None, 72, 72, 64)        18496     \n",
            "                                                                 \n",
            " dropout_8 (Dropout)         (None, 72, 72, 64)        0         \n",
            "                                                                 \n",
            " batch_normalization_11 (Bat  (None, 72, 72, 64)       256       \n",
            " chNormalization)                                                \n",
            "                                                                 \n",
            " max_pooling2d_11 (MaxPoolin  (None, 36, 36, 64)       0         \n",
            " g2D)                                                            \n",
            "                                                                 \n",
            " conv2d_12 (Conv2D)          (None, 34, 34, 64)        36928     \n",
            "                                                                 \n",
            " batch_normalization_12 (Bat  (None, 34, 34, 64)       256       \n",
            " chNormalization)                                                \n",
            "                                                                 \n",
            " max_pooling2d_12 (MaxPoolin  (None, 17, 17, 64)       0         \n",
            " g2D)                                                            \n",
            "                                                                 \n",
            " conv2d_13 (Conv2D)          (None, 15, 15, 128)       73856     \n",
            "                                                                 \n",
            " dropout_9 (Dropout)         (None, 15, 15, 128)       0         \n",
            "                                                                 \n",
            " batch_normalization_13 (Bat  (None, 15, 15, 128)      512       \n",
            " chNormalization)                                                \n",
            "                                                                 \n",
            " max_pooling2d_13 (MaxPoolin  (None, 7, 7, 128)        0         \n",
            " g2D)                                                            \n",
            "                                                                 \n",
            " conv2d_14 (Conv2D)          (None, 5, 5, 256)         295168    \n",
            "                                                                 \n",
            " dropout_10 (Dropout)        (None, 5, 5, 256)         0         \n",
            "                                                                 \n",
            " batch_normalization_14 (Bat  (None, 5, 5, 256)        1024      \n",
            " chNormalization)                                                \n",
            "                                                                 \n",
            " max_pooling2d_14 (MaxPoolin  (None, 2, 2, 256)        0         \n",
            " g2D)                                                            \n",
            "                                                                 \n",
            " flatten_2 (Flatten)         (None, 1024)              0         \n",
            "                                                                 \n",
            " dense_4 (Dense)             (None, 128)               131200    \n",
            "                                                                 \n",
            " dropout_11 (Dropout)        (None, 128)               0         \n",
            "                                                                 \n",
            " dense_5 (Dense)             (None, 1)                 129       \n",
            "                                                                 \n",
            "=================================================================\n",
            "Total params: 558,273\n",
            "Trainable params: 557,185\n",
            "Non-trainable params: 1,088\n",
            "_________________________________________________________________\n"
          ]
        }
      ]
    },
    {
      "cell_type": "code",
      "metadata": {
        "colab": {
          "base_uri": "https://localhost:8080/"
        },
        "id": "DC4VRlQrHHKF",
        "outputId": "483882b9-a174-4247-e683-25cc1de987a2"
      },
      "source": [
        "_, accuracy = model.evaluate(X_test, y_test)\n",
        "print(\"Accuracy: %.2f\" % (accuracy*100))"
      ],
      "execution_count": 38,
      "outputs": [
        {
          "output_type": "stream",
          "name": "stdout",
          "text": [
            "20/20 [==============================] - 1s 24ms/step - loss: 1.3728 - accuracy: 0.8301\n",
            "Accuracy: 83.01\n"
          ]
        }
      ]
    },
    {
      "cell_type": "code",
      "metadata": {
        "colab": {
          "base_uri": "https://localhost:8080/",
          "height": 572
        },
        "id": "qc9-lHP8HHOJ",
        "outputId": "f1ea9ef1-4339-4995-e699-e2adb002b749"
      },
      "source": [
        "plt.plot(history.history[\"accuracy\"])\n",
        "#plt.plot(history.history[\"val_accuracy\"])\n",
        "plt.title(\"Model accuracy\")\n",
        "plt.ylabel(\"Accuracy\")\n",
        "plt.xlabel(\"Epoch\")\n",
        "plt.legend([\"Train\", \"Test\"], loc = \"upper left\")\n",
        "plt.show()\n",
        "\n",
        "plt.plot(history.history[\"loss\"])\n",
        "#plt.plot(history.history[\"val_loss\"])\n",
        "plt.title(\"Model loss\")\n",
        "plt.ylabel(\"Loss\")\n",
        "plt.xlabel(\"Epoch\")\n",
        "plt.legend([\"Train\", \"Test\"], loc = \"upper left\")\n",
        "plt.show()"
      ],
      "execution_count": 39,
      "outputs": [
        {
          "output_type": "display_data",
          "data": {
            "image/png": "[encoded data removed]",
            "text/plain": [
              "<Figure size 432x288 with 1 Axes>"
            ]
          },
          "metadata": {
            "needs_background": "light"
          }
        },
        {
          "output_type": "display_data",
          "data": {
            "image/png": "[encoded data removed]",
            "text/plain": [
              "<Figure size 432x288 with 1 Axes>"
            ]
          },
          "metadata": {
            "needs_background": "light"
          }
        }
      ]
    },
    {
      "cell_type": "code",
      "metadata": {
        "colab": {
          "base_uri": "https://localhost:8080/",
          "height": 281
        },
        "id": "greUOgLPwYxh",
        "outputId": "65e2c55f-fd38-4079-dd8b-c5843a5334c5"
      },
      "source": [
        "sns.heatmap(confusion_matrix(np.round(model.predict(X_test)), y_test), cmap = \"viridis\", annot = True)"
      ],
      "execution_count": 40,
      "outputs": [
        {
          "output_type": "execute_result",
          "data": {
            "text/plain": [
              "<matplotlib.axes._subplots.AxesSubplot at 0x7fbab495bfd0>"
            ]
          },
          "metadata": {},
          "execution_count": 40
        },
        {
          "output_type": "display_data",
          "data": {
            "image/png": "[encoded data removed]",
            "text/plain": [
              "<Figure size 432x288 with 2 Axes>"
            ]
          },
          "metadata": {
            "needs_background": "light"
          }
        }
      ]
    },
    {
      "cell_type": "code",
      "metadata": {
        "colab": {
          "base_uri": "https://localhost:8080/",
          "height": 282
        },
        "id": "m-LyGVIowg1a",
        "outputId": "33b19baa-0913-4d60-cf2a-835352531848"
      },
      "source": [
        "y_val_prob=model.predict(X_val)\n",
        "from sklearn.metrics import roc_curve,roc_auc_score\n",
        "\n",
        "fpr , tpr , thresholds = roc_curve ( y_val , y_val_prob)\n",
        "def plot_roc_curve(fpr,tpr): \n",
        "  plt.plot(fpr,tpr) \n",
        "  plt.axis([0,1,0,1]) \n",
        "  plt.xlabel('False Positive Rate') \n",
        "  plt.ylabel('True Positive Rate') \n",
        "  plt.show()    \n",
        "  \n",
        "plot_roc_curve (fpr,tpr) "
      ],
      "execution_count": 41,
      "outputs": [
        {
          "output_type": "display_data",
          "data": {
            "image/png": "[encoded data removed]",
            "text/plain": [
              "<Figure size 432x288 with 1 Axes>"
            ]
          },
          "metadata": {
            "needs_background": "light"
          }
        }
      ]
    },
    {
      "cell_type": "code",
      "metadata": {
        "id": "xbETsXAzwg4k"
      },
      "source": [
        ""
      ],
      "execution_count": null,
      "outputs": []
    }
  ]
}