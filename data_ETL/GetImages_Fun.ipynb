{
 "cells": [
  {
   "cell_type": "code",
   "execution_count": 1,
   "id": "a36ce6f3",
   "metadata": {},
   "outputs": [],
   "source": [
    "import json\n",
    "import pandas as pd\n",
    "import numpy as np\n",
    "import csv\n",
    "import shutil\n",
    "import os\n",
    "import random"
   ]
  },
  {
   "cell_type": "code",
   "execution_count": 2,
   "id": "0945d416",
   "metadata": {},
   "outputs": [],
   "source": [
    "#Dataset - https://www.kaggle.com/nih-chest-xrays/data\n",
    "#create a dataframe for Data_Entry_2017.csv\n",
    "Data_Entry_CSV_df = pd.read_csv('Data_Entry_2017.csv')"
   ]
  },
  {
   "cell_type": "code",
   "execution_count": 5,
   "id": "d1418a3a",
   "metadata": {},
   "outputs": [],
   "source": [
    "#Create a function to copy images as per our required findings(Pneumonia/Normal) and train/test dataset  \n",
    "def GetImages(finding_name, train_test):\n",
    "    # Filter the x-ray images for Pnuemonia patients only.\n",
    "    finding_df = Data_Entry_CSV_df[Data_Entry_CSV_df['Finding Labels'].eq(finding_name)]\n",
    "    #finding_df.head()\n",
    "    \n",
    "    # finding_df dataframe count, duplicates, remove duplicates\n",
    "    finding_df.drop_duplicates(subset=['Image Index'])\n",
    "    finding_df['Image Index'].dropna()\n",
    "    #finding_df['Image Index'].count() \n",
    "    \n",
    "    # Create a dataframe for test_list.txt\n",
    "    if train_test == 'test':\n",
    "        train_test_list_df = pd.read_csv('test_list.txt', header=None)\n",
    "        train_test_list_df.columns = ['Image Index']\n",
    "        #train_test_list_df.head()\n",
    "    else: \n",
    "        train_test_list_df = pd.read_csv('train_val_list.txt', header=None)\n",
    "        train_test_list_df.columns = ['Image Index']\n",
    "        #train_test_list_df.head()\n",
    "    \n",
    "    train_test_list_df.drop_duplicates(subset=['Image Index'])\n",
    "    #train_test_list_df.count() \n",
    "    \n",
    "    # Merge two dataframes, result will display test images for Pneumonia patients.\n",
    "    finidngs_train_test_df = pd.merge(finding_df, train_test_list_df, on=[\"Image Index\"]) #inner join\n",
    "    ##finidngs_train_test_df.head()\n",
    "    \n",
    "    # create a text file for image list\n",
    "    finidngs_train_test_df['Image Index'].to_csv('finidngs_train_test.txt', header=None, index=None)\n",
    "    \n",
    "    img_list = finidngs_train_test_df['Image Index'].tolist()\n",
    "    \n",
    "    # findings = 'No Findins'(Normal) has test=9500+ and train=50,000+ images, while Pneumonia has test=88 and train = 234 images\n",
    "    #To keep the balance in both findings,we will get Normal_test = 150 and Normal_train = 400 images.\n",
    "    if(finding_name == 'No Finding'):\n",
    "        if(train_test == 'test'):\n",
    "            img_list = random.sample(img_list, 150)\n",
    "        else:\n",
    "            img_list = random.sample(img_list, 400)\n",
    "        \n",
    "        \n",
    "    # Get no of file/copy images\n",
    "    source_path_list = [\"images_001\\images\\\\\", \"images_002\\images\\\\\", \"images_003\\images\\\\\", \"images_004\\images\\\\\", \"images_005\\images\\\\\",\n",
    "                    \"images_006\\images\\\\\", \"images_007\\images\\\\\", \"images_008\\images\\\\\", \"images_009\\images\\\\\", \"images_010\\images\\\\\",\n",
    "                    \"images_011\\images\\\\\", \"images_012\\images\\\\\"]\n",
    "\n",
    "    destination = \"data_clean\\\\\"\n",
    "\n",
    "    i = 0 \n",
    "    #file_list = os.listdir(source_path)\n",
    "    #print(file_list)\n",
    "    for source_path in source_path_list:\n",
    "        for img_name in img_list:\n",
    "            #print(source_path+img_name)\n",
    "            #i = i+1\n",
    "            if os.path.exists(source_path+img_name):\n",
    "                shutil.copy(source_path+img_name, destination+img_name)\n",
    "                #print(f'Image ' + img_name + ' exist in ' + source_path)\n",
    "                i = i+1\n",
    "                \n",
    "    print(f'Total '+ str(i) + ' images are copied into data_clean folder.')\n",
    "    print(f'These images are for ' + finding_name +' findings and ' + train_test + ' dataset.')\n",
    "    "
   ]
  },
  {
   "cell_type": "code",
   "execution_count": 6,
   "id": "16c16250",
   "metadata": {},
   "outputs": [
    {
     "name": "stdout",
     "output_type": "stream",
     "text": [
      "Total 400 images are copied into data_clean folder.\n",
      "These images are for No Finding findings and train dataset.\n"
     ]
    }
   ],
   "source": [
    "# call GetImages(finding_name, train_test)\n",
    "GetImages('No Finding', 'train')"
   ]
  },
  {
   "cell_type": "code",
   "execution_count": null,
   "id": "8e2bfa29",
   "metadata": {},
   "outputs": [],
   "source": []
  }
 ],
 "metadata": {
  "kernelspec": {
   "display_name": "mlenv",
   "language": "python",
   "name": "mlenv"
  },
  "language_info": {
   "codemirror_mode": {
    "name": "ipython",
    "version": 3
   },
   "file_extension": ".py",
   "mimetype": "text/x-python",
   "name": "python",
   "nbconvert_exporter": "python",
   "pygments_lexer": "ipython3",
   "version": "3.7.10"
  }
 },
 "nbformat": 4,
 "nbformat_minor": 5
}
