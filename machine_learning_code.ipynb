{
  "nbformat": 4,
  "nbformat_minor": 0,
  "metadata": {
    "colab": {
      "name": "machine_learning_code.ipynb",
      "provenance": []
    },
    "kernelspec": {
      "name": "python3",
      "display_name": "Python 3"
    },
    "language_info": {
      "name": "python"
    }
  },
  "cells": [
    {
      "cell_type": "code",
      "metadata": {
        "id": "LR0Rq89a-hrQ"
      },
      "source": [
        "\n",
        "import numpy as np # linear algebra\n",
        "import pandas as pd # data processing"
      ],
      "execution_count": 3,
      "outputs": []
    },
    {
      "cell_type": "code",
      "metadata": {
        "id": "J9gr4SSF_I3h"
      },
      "source": [
        "# sklearn\n",
        "from sklearn.model_selection import train_test_split\n",
        "from sklearn.metrics import confusion_matrix"
      ],
      "execution_count": 4,
      "outputs": []
    },
    {
      "cell_type": "code",
      "metadata": {
        "id": "JBeeHTXD_Yl2"
      },
      "source": [
        "import tensorflow as tf\n",
        "import tensorflow.keras as keras\n",
        "from tensorflow.keras import Sequential\n",
        "from tensorflow.keras.layers import Dense, Flatten, Activation"
      ],
      "execution_count": 34,
      "outputs": []
    },
    {
      "cell_type": "code",
      "metadata": {
        "id": "4moqeYzy_i0_"
      },
      "source": [
        "import cv2\n",
        "import matplotlib.pyplot as plt\n",
        "import seaborn as sns\n",
        "\n",
        "import os"
      ],
      "execution_count": 17,
      "outputs": []
    },
    {
      "cell_type": "code",
      "metadata": {
        "colab": {
          "base_uri": "https://localhost:8080/"
        },
        "id": "lA0LUoFg_i36",
        "outputId": "545bc909-d9f3-47f1-da2f-152cd1c8ccfb"
      },
      "source": [
        "from google.colab import drive\n",
        "drive.mount('/content/drive')"
      ],
      "execution_count": 8,
      "outputs": [
        {
          "output_type": "stream",
          "name": "stdout",
          "text": [
            "Mounted at /content/drive\n"
          ]
        }
      ]
    },
    {
      "cell_type": "code",
      "metadata": {
        "id": "m10x_IDC_i7F"
      },
      "source": [
        "def img_to_array(path, category_no, X, y):\n",
        "\n",
        "  for p in os.listdir(path):\n",
        "        img = cv2.imread(os.path.join(path, p), cv2.IMREAD_GRAYSCALE)\n",
        "        img_np = cv2.resize(img, dsize = (150, 150))\n",
        "        X.append(img_np)\n",
        "        y.append(category_no)"
      ],
      "execution_count": 10,
      "outputs": []
    },
    {
      "cell_type": "code",
      "metadata": {
        "id": "VMwqUkW9_i-i"
      },
      "source": [
        "path_train=\"/content/drive/MyDrive/NIH_dataset_clean/NIH_dataset_clean/train/\"\n",
        "\n",
        "\n",
        "category_list = [\"Normal\", \"Pneumonia\", \"Other\"]\n",
        "\n",
        "X_train = []\n",
        "y_train = []\n",
        "\n",
        "for i in range(len(category_list)):\n",
        "    img_to_array(path_train + category_list[i], i, X_train, y_train)\n",
        "    \n",
        "X_train = np.array(X_train).reshape(-1,150,150,1)\n",
        "y_train = np.array(y_train)"
      ],
      "execution_count": 13,
      "outputs": []
    },
    {
      "cell_type": "code",
      "metadata": {
        "colab": {
          "base_uri": "https://localhost:8080/",
          "height": 333
        },
        "id": "1RW9_HGj_jBl",
        "outputId": "6a885045-e192-4287-bf8c-a20b24447b0d"
      },
      "source": [
        "sns.countplot(y_train)"
      ],
      "execution_count": 18,
      "outputs": [
        {
          "output_type": "stream",
          "name": "stderr",
          "text": [
            "/usr/local/lib/python3.7/dist-packages/seaborn/_decorators.py:43: FutureWarning: Pass the following variable as a keyword arg: x. From version 0.12, the only valid positional argument will be `data`, and passing other arguments without an explicit keyword will result in an error or misinterpretation.\n",
            "  FutureWarning\n"
          ]
        },
        {
          "output_type": "execute_result",
          "data": {
            "text/plain": [
              "<matplotlib.axes._subplots.AxesSubplot at 0x7f3e65749390>"
            ]
          },
          "metadata": {},
          "execution_count": 18
        },
        {
          "output_type": "display_data",
          "data": {
            "image/png": "[encoded data removed]",
            "text/plain": [
              "<Figure size 432x288 with 1 Axes>"
            ]
          },
          "metadata": {
            "needs_background": "light"
          }
        }
      ]
    },
    {
      "cell_type": "code",
      "metadata": {
        "id": "AjWCwEMq_jEq"
      },
      "source": [
        "path_test = \"/content/drive/MyDrive/NIH_dataset_clean/NIH_dataset_clean/test/\"\n",
        "\n",
        "\n",
        "X_test = []\n",
        "y_test = []\n",
        "\n",
        "for i in range(len(category_list)):\n",
        "    img_to_array(path_test + category_list[i], i, X_test, y_test)\n",
        "    \n",
        "X_test = np.array(X_test).reshape(-1,150,150,1)\n",
        "y_test = np.array(y_test)"
      ],
      "execution_count": 19,
      "outputs": []
    },
    {
      "cell_type": "code",
      "metadata": {
        "colab": {
          "base_uri": "https://localhost:8080/"
        },
        "id": "SoFcCggaA90n",
        "outputId": "99d01685-c5a6-4f09-8533-897274b06243"
      },
      "source": [
        "X_train = tf.keras.utils.normalize(X_train, axis=1)  # scales data between 0 and 1\n",
        "X_test = tf.keras.utils.normalize(X_test, axis=1)  # scales data between 0 and 1\n",
        "\n",
        "model = tf.keras.models.Sequential()  # a basic feed-forward model\n",
        "model.add(tf.keras.layers.Flatten())  # takes our 28x28 and makes it 1x784\n",
        "model.add(tf.keras.layers.Dense(128, activation=tf.nn.relu))  # a simple fully-connected layer, 128 units, relu activation\n",
        "model.add(tf.keras.layers.Dense(128, activation=tf.nn.relu))  # a simple fully-connected layer, 128 units, relu activation\n",
        "model.add(tf.keras.layers.Dense(3, activation=tf.nn.softmax))  # our output layer. 10 units for 3 classes. Softmax for probability distribution\n",
        "\n",
        "model.compile(optimizer='adam',  # Good default optimizer to start with\n",
        "              loss='sparse_categorical_crossentropy',  # how will we calculate our \"error.\" Neural network aims to minimize loss.\n",
        "              metrics=['accuracy'])  # what to track\n",
        "\n",
        "model.fit(X_train, y_train, epochs=20)  # train the model\n",
        "\n",
        "val_loss, val_acc = model.evaluate(X_test, y_test)  # evaluate the out of sample data with model\n",
        "print(val_loss)  # model's loss (error)\n",
        "print(\"Accuracy: %.2f\" % (val_acc*100))  # model's accuracy"
      ],
      "execution_count": 33,
      "outputs": [
        {
          "output_type": "stream",
          "name": "stdout",
          "text": [
            "Epoch 1/20\n",
            "36/36 [==============================] - 1s 13ms/step - loss: 1.1578 - accuracy: 0.4021\n",
            "Epoch 2/20\n",
            "36/36 [==============================] - 0s 13ms/step - loss: 1.0899 - accuracy: 0.4347\n",
            "Epoch 3/20\n",
            "36/36 [==============================] - 0s 13ms/step - loss: 1.0561 - accuracy: 0.4568\n",
            "Epoch 4/20\n",
            "36/36 [==============================] - 0s 13ms/step - loss: 1.0397 - accuracy: 0.4850\n",
            "Epoch 5/20\n",
            "36/36 [==============================] - 0s 13ms/step - loss: 1.0526 - accuracy: 0.4444\n",
            "Epoch 6/20\n",
            "36/36 [==============================] - 0s 13ms/step - loss: 1.0423 - accuracy: 0.4594\n",
            "Epoch 7/20\n",
            "36/36 [==============================] - 0s 13ms/step - loss: 1.0641 - accuracy: 0.4109\n",
            "Epoch 8/20\n",
            "36/36 [==============================] - 0s 13ms/step - loss: 1.0380 - accuracy: 0.4577\n",
            "Epoch 9/20\n",
            "36/36 [==============================] - 0s 13ms/step - loss: 1.0272 - accuracy: 0.4700\n",
            "Epoch 10/20\n",
            "36/36 [==============================] - 0s 14ms/step - loss: 1.0265 - accuracy: 0.4771\n",
            "Epoch 11/20\n",
            "36/36 [==============================] - 0s 12ms/step - loss: 1.0320 - accuracy: 0.4647\n",
            "Epoch 12/20\n",
            "36/36 [==============================] - 0s 12ms/step - loss: 1.0137 - accuracy: 0.4753\n",
            "Epoch 13/20\n",
            "36/36 [==============================] - 1s 15ms/step - loss: 1.0160 - accuracy: 0.4859\n",
            "Epoch 14/20\n",
            "36/36 [==============================] - 1s 15ms/step - loss: 1.0016 - accuracy: 0.5071\n",
            "Epoch 15/20\n",
            "36/36 [==============================] - 1s 15ms/step - loss: 1.0127 - accuracy: 0.4938\n",
            "Epoch 16/20\n",
            "36/36 [==============================] - 1s 16ms/step - loss: 0.9934 - accuracy: 0.5062\n",
            "Epoch 17/20\n",
            "36/36 [==============================] - 1s 15ms/step - loss: 0.9878 - accuracy: 0.5097\n",
            "Epoch 18/20\n",
            "36/36 [==============================] - 1s 22ms/step - loss: 0.9913 - accuracy: 0.5159\n",
            "Epoch 19/20\n",
            "36/36 [==============================] - 1s 19ms/step - loss: 1.0025 - accuracy: 0.4991\n",
            "Epoch 20/20\n",
            "36/36 [==============================] - 1s 19ms/step - loss: 0.9958 - accuracy: 0.5229\n",
            "14/14 [==============================] - 0s 5ms/step - loss: 1.0644 - accuracy: 0.4658\n",
            "1.064366340637207\n",
            "Accuracy: 46.58\n"
          ]
        }
      ]
    }
  ]
}